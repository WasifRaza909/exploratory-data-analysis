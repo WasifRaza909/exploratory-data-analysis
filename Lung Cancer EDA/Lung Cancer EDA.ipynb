{
 "cells": [
  {
   "cell_type": "code",
   "execution_count": null,
   "id": "926aeffa-23a1-48f2-b24b-58c5b9b5a7ec",
   "metadata": {},
   "outputs": [],
   "source": [
    "# Gender: M(male), F(female)\n",
    "# Age: Age of the patient\n",
    "# Smoking: YES=2 , NO=1.\n",
    "# Yellow fingers: YES=2 , NO=1.\n",
    "# Anxiety: YES=2 , NO=1.\n",
    "# Peer_pressure: YES=2 , NO=1.\n",
    "# Chronic Disease: YES=2 , NO=1.\n",
    "# Fatigue: YES=2 , NO=1.\n",
    "# Allergy: YES=2 , NO=1.\n",
    "# Wheezing: YES=2 , NO=1.\n",
    "# Alcohol: YES=2 , NO=1.\n",
    "# Coughing: YES=2 , NO=1.\n",
    "# Shortness of Breath: YES=2 , NO=1.\n",
    "# Swallowing Difficulty: YES=2 , NO=1.\n",
    "# Chest pain: YES=2 , NO=1.\n",
    "# Lung Cancer: YES , NO.\n",
    "\n",
    "# Exploratory Data Analysis (EDA) is a great approach to understand your lung cancer data better. Here are some key questions to guide your EDA:\n",
    "\n",
    "# 1. Demographic Analysis\n",
    "# What is the gender distribution of lung cancer patients?\n",
    "# What is the age distribution of lung cancer patients?\n",
    "# Is there a relationship between age or gender and the likelihood of lung cancer?\n",
    "# 2. Risk Factor Analysis\n",
    "# How many patients are smokers, and what is the prevalence of lung cancer among smokers vs. non-smokers?\n",
    "# What percentage of patients with yellow fingers have lung cancer?\n",
    "# How do other risk factors (chronic disease, anxiety, alcohol consumption, etc.) relate to lung cancer?\n",
    "# 3. Symptom Analysis\n",
    "# What symptoms (coughing, wheezing, chest pain, shortness of breath) are most common among lung cancer patients?\n",
    "# Are there certain symptoms that are more prevalent among patients with lung cancer compared to those without?\n",
    "# How many lung cancer patients exhibit multiple symptoms simultaneously?\n",
    "# 4. Co-occurrence of Symptoms and Risk Factors\n",
    "# Are there any combinations of symptoms and risk factors that are highly associated with lung cancer?\n",
    "# For instance, is there a high prevalence of lung cancer among patients who smoke and experience shortness of breath or chest pain?\n",
    "# 5. Statistical Testing\n",
    "# Perform statistical tests to see if certain factors (e.g., smoking, chronic disease, anxiety) are significantly associated with lung cancer.\n",
    "# Does gender, age, or any specific symptom significantly impact the likelihood of lung cancer?\n",
    "# 6. Comparative Analysis\n",
    "# Compare characteristics (symptoms, risk factors) between lung cancer patients and non-lung cancer patients.\n",
    "# Are there significant differences in lifestyle factors (smoking, alcohol) between the two groups?\n",
    "# 7. Correlation Analysis\n",
    "# Is there a correlation between any of the symptoms or risk factors?\n",
    "# Do symptoms like wheezing and shortness of breath correlate with each other?\n",
    "# Does smoking correlate with other factors like yellow fingers or chronic disease?\n",
    "# 8. Prediction-Oriented Analysis\n",
    "# Which factors appear most predictive of lung cancer in this dataset?\n",
    "# Can you identify which symptoms or risk factors might be early indicators for lung cancer?\n",
    "# 9. Visualizations\n",
    "# Create visualizations (bar charts, box plots, heatmaps) to visualize relationships between variables, such as smoking and lung cancer or age distribution across lung cancer status.\n",
    "# Use a heatmap to show correlations between symptoms, risk factors, and lung cancer.\n",
    "# 10. Cluster Analysis\n",
    "# Can you cluster patients based on symptoms and risk factors?\n",
    "# Do any clusters show a higher prevalence of lung cancer?"
   ]
  },
  {
   "cell_type": "code",
   "execution_count": 14,
   "id": "05c061b3-11d1-445f-baeb-3482c79af4a3",
   "metadata": {},
   "outputs": [],
   "source": [
    "import pandas as pd\n",
    "import numpy as np\n",
    "import matplotlib.pyplot as plt\n",
    "import seaborn as sns"
   ]
  },
  {
   "cell_type": "code",
   "execution_count": 2,
   "id": "8f83b31a-b0d1-485e-8278-71422109c65d",
   "metadata": {},
   "outputs": [],
   "source": [
    "df = pd.read_csv('lung-cancer-data.csv')"
   ]
  },
  {
   "cell_type": "code",
   "execution_count": 3,
   "id": "23368ce7-35a3-4e81-a6eb-8da9e937a647",
   "metadata": {},
   "outputs": [
    {
     "data": {
      "text/html": [
       "<div>\n",
       "<style scoped>\n",
       "    .dataframe tbody tr th:only-of-type {\n",
       "        vertical-align: middle;\n",
       "    }\n",
       "\n",
       "    .dataframe tbody tr th {\n",
       "        vertical-align: top;\n",
       "    }\n",
       "\n",
       "    .dataframe thead th {\n",
       "        text-align: right;\n",
       "    }\n",
       "</style>\n",
       "<table border=\"1\" class=\"dataframe\">\n",
       "  <thead>\n",
       "    <tr style=\"text-align: right;\">\n",
       "      <th></th>\n",
       "      <th>GENDER</th>\n",
       "      <th>AGE</th>\n",
       "      <th>SMOKING</th>\n",
       "      <th>YELLOW_FINGERS</th>\n",
       "      <th>ANXIETY</th>\n",
       "      <th>PEER_PRESSURE</th>\n",
       "      <th>CHRONIC DISEASE</th>\n",
       "      <th>FATIGUE</th>\n",
       "      <th>ALLERGY</th>\n",
       "      <th>WHEEZING</th>\n",
       "      <th>ALCOHOL CONSUMING</th>\n",
       "      <th>COUGHING</th>\n",
       "      <th>SHORTNESS OF BREATH</th>\n",
       "      <th>SWALLOWING DIFFICULTY</th>\n",
       "      <th>CHEST PAIN</th>\n",
       "      <th>LUNG_CANCER</th>\n",
       "    </tr>\n",
       "  </thead>\n",
       "  <tbody>\n",
       "    <tr>\n",
       "      <th>0</th>\n",
       "      <td>M</td>\n",
       "      <td>69</td>\n",
       "      <td>1</td>\n",
       "      <td>2</td>\n",
       "      <td>2</td>\n",
       "      <td>1</td>\n",
       "      <td>1</td>\n",
       "      <td>2</td>\n",
       "      <td>1</td>\n",
       "      <td>2</td>\n",
       "      <td>2</td>\n",
       "      <td>2</td>\n",
       "      <td>2</td>\n",
       "      <td>2</td>\n",
       "      <td>2</td>\n",
       "      <td>YES</td>\n",
       "    </tr>\n",
       "    <tr>\n",
       "      <th>1</th>\n",
       "      <td>M</td>\n",
       "      <td>74</td>\n",
       "      <td>2</td>\n",
       "      <td>1</td>\n",
       "      <td>1</td>\n",
       "      <td>1</td>\n",
       "      <td>2</td>\n",
       "      <td>2</td>\n",
       "      <td>2</td>\n",
       "      <td>1</td>\n",
       "      <td>1</td>\n",
       "      <td>1</td>\n",
       "      <td>2</td>\n",
       "      <td>2</td>\n",
       "      <td>2</td>\n",
       "      <td>YES</td>\n",
       "    </tr>\n",
       "    <tr>\n",
       "      <th>2</th>\n",
       "      <td>F</td>\n",
       "      <td>59</td>\n",
       "      <td>1</td>\n",
       "      <td>1</td>\n",
       "      <td>1</td>\n",
       "      <td>2</td>\n",
       "      <td>1</td>\n",
       "      <td>2</td>\n",
       "      <td>1</td>\n",
       "      <td>2</td>\n",
       "      <td>1</td>\n",
       "      <td>2</td>\n",
       "      <td>2</td>\n",
       "      <td>1</td>\n",
       "      <td>2</td>\n",
       "      <td>NO</td>\n",
       "    </tr>\n",
       "    <tr>\n",
       "      <th>3</th>\n",
       "      <td>M</td>\n",
       "      <td>63</td>\n",
       "      <td>2</td>\n",
       "      <td>2</td>\n",
       "      <td>2</td>\n",
       "      <td>1</td>\n",
       "      <td>1</td>\n",
       "      <td>1</td>\n",
       "      <td>1</td>\n",
       "      <td>1</td>\n",
       "      <td>2</td>\n",
       "      <td>1</td>\n",
       "      <td>1</td>\n",
       "      <td>2</td>\n",
       "      <td>2</td>\n",
       "      <td>NO</td>\n",
       "    </tr>\n",
       "    <tr>\n",
       "      <th>4</th>\n",
       "      <td>F</td>\n",
       "      <td>63</td>\n",
       "      <td>1</td>\n",
       "      <td>2</td>\n",
       "      <td>1</td>\n",
       "      <td>1</td>\n",
       "      <td>1</td>\n",
       "      <td>1</td>\n",
       "      <td>1</td>\n",
       "      <td>2</td>\n",
       "      <td>1</td>\n",
       "      <td>2</td>\n",
       "      <td>2</td>\n",
       "      <td>1</td>\n",
       "      <td>1</td>\n",
       "      <td>NO</td>\n",
       "    </tr>\n",
       "    <tr>\n",
       "      <th>...</th>\n",
       "      <td>...</td>\n",
       "      <td>...</td>\n",
       "      <td>...</td>\n",
       "      <td>...</td>\n",
       "      <td>...</td>\n",
       "      <td>...</td>\n",
       "      <td>...</td>\n",
       "      <td>...</td>\n",
       "      <td>...</td>\n",
       "      <td>...</td>\n",
       "      <td>...</td>\n",
       "      <td>...</td>\n",
       "      <td>...</td>\n",
       "      <td>...</td>\n",
       "      <td>...</td>\n",
       "      <td>...</td>\n",
       "    </tr>\n",
       "    <tr>\n",
       "      <th>304</th>\n",
       "      <td>F</td>\n",
       "      <td>56</td>\n",
       "      <td>1</td>\n",
       "      <td>1</td>\n",
       "      <td>1</td>\n",
       "      <td>2</td>\n",
       "      <td>2</td>\n",
       "      <td>2</td>\n",
       "      <td>1</td>\n",
       "      <td>1</td>\n",
       "      <td>2</td>\n",
       "      <td>2</td>\n",
       "      <td>2</td>\n",
       "      <td>2</td>\n",
       "      <td>1</td>\n",
       "      <td>YES</td>\n",
       "    </tr>\n",
       "    <tr>\n",
       "      <th>305</th>\n",
       "      <td>M</td>\n",
       "      <td>70</td>\n",
       "      <td>2</td>\n",
       "      <td>1</td>\n",
       "      <td>1</td>\n",
       "      <td>1</td>\n",
       "      <td>1</td>\n",
       "      <td>2</td>\n",
       "      <td>2</td>\n",
       "      <td>2</td>\n",
       "      <td>2</td>\n",
       "      <td>2</td>\n",
       "      <td>2</td>\n",
       "      <td>1</td>\n",
       "      <td>2</td>\n",
       "      <td>YES</td>\n",
       "    </tr>\n",
       "    <tr>\n",
       "      <th>306</th>\n",
       "      <td>M</td>\n",
       "      <td>58</td>\n",
       "      <td>2</td>\n",
       "      <td>1</td>\n",
       "      <td>1</td>\n",
       "      <td>1</td>\n",
       "      <td>1</td>\n",
       "      <td>1</td>\n",
       "      <td>2</td>\n",
       "      <td>2</td>\n",
       "      <td>2</td>\n",
       "      <td>2</td>\n",
       "      <td>1</td>\n",
       "      <td>1</td>\n",
       "      <td>2</td>\n",
       "      <td>YES</td>\n",
       "    </tr>\n",
       "    <tr>\n",
       "      <th>307</th>\n",
       "      <td>M</td>\n",
       "      <td>67</td>\n",
       "      <td>2</td>\n",
       "      <td>1</td>\n",
       "      <td>2</td>\n",
       "      <td>1</td>\n",
       "      <td>1</td>\n",
       "      <td>2</td>\n",
       "      <td>2</td>\n",
       "      <td>1</td>\n",
       "      <td>2</td>\n",
       "      <td>2</td>\n",
       "      <td>2</td>\n",
       "      <td>1</td>\n",
       "      <td>2</td>\n",
       "      <td>YES</td>\n",
       "    </tr>\n",
       "    <tr>\n",
       "      <th>308</th>\n",
       "      <td>M</td>\n",
       "      <td>62</td>\n",
       "      <td>1</td>\n",
       "      <td>1</td>\n",
       "      <td>1</td>\n",
       "      <td>2</td>\n",
       "      <td>1</td>\n",
       "      <td>2</td>\n",
       "      <td>2</td>\n",
       "      <td>2</td>\n",
       "      <td>2</td>\n",
       "      <td>1</td>\n",
       "      <td>1</td>\n",
       "      <td>2</td>\n",
       "      <td>1</td>\n",
       "      <td>YES</td>\n",
       "    </tr>\n",
       "  </tbody>\n",
       "</table>\n",
       "<p>309 rows × 16 columns</p>\n",
       "</div>"
      ],
      "text/plain": [
       "    GENDER  AGE  SMOKING  YELLOW_FINGERS  ANXIETY  PEER_PRESSURE  \\\n",
       "0        M   69        1               2        2              1   \n",
       "1        M   74        2               1        1              1   \n",
       "2        F   59        1               1        1              2   \n",
       "3        M   63        2               2        2              1   \n",
       "4        F   63        1               2        1              1   \n",
       "..     ...  ...      ...             ...      ...            ...   \n",
       "304      F   56        1               1        1              2   \n",
       "305      M   70        2               1        1              1   \n",
       "306      M   58        2               1        1              1   \n",
       "307      M   67        2               1        2              1   \n",
       "308      M   62        1               1        1              2   \n",
       "\n",
       "     CHRONIC DISEASE  FATIGUE   ALLERGY   WHEEZING  ALCOHOL CONSUMING  \\\n",
       "0                  1         2         1         2                  2   \n",
       "1                  2         2         2         1                  1   \n",
       "2                  1         2         1         2                  1   \n",
       "3                  1         1         1         1                  2   \n",
       "4                  1         1         1         2                  1   \n",
       "..               ...       ...       ...       ...                ...   \n",
       "304                2         2         1         1                  2   \n",
       "305                1         2         2         2                  2   \n",
       "306                1         1         2         2                  2   \n",
       "307                1         2         2         1                  2   \n",
       "308                1         2         2         2                  2   \n",
       "\n",
       "     COUGHING  SHORTNESS OF BREATH  SWALLOWING DIFFICULTY  CHEST PAIN  \\\n",
       "0           2                    2                      2           2   \n",
       "1           1                    2                      2           2   \n",
       "2           2                    2                      1           2   \n",
       "3           1                    1                      2           2   \n",
       "4           2                    2                      1           1   \n",
       "..        ...                  ...                    ...         ...   \n",
       "304         2                    2                      2           1   \n",
       "305         2                    2                      1           2   \n",
       "306         2                    1                      1           2   \n",
       "307         2                    2                      1           2   \n",
       "308         1                    1                      2           1   \n",
       "\n",
       "    LUNG_CANCER  \n",
       "0           YES  \n",
       "1           YES  \n",
       "2            NO  \n",
       "3            NO  \n",
       "4            NO  \n",
       "..          ...  \n",
       "304         YES  \n",
       "305         YES  \n",
       "306         YES  \n",
       "307         YES  \n",
       "308         YES  \n",
       "\n",
       "[309 rows x 16 columns]"
      ]
     },
     "execution_count": 3,
     "metadata": {},
     "output_type": "execute_result"
    }
   ],
   "source": [
    "df"
   ]
  },
  {
   "cell_type": "code",
   "execution_count": 6,
   "id": "21e5066a-b0f7-4932-9150-f3bd200b03fc",
   "metadata": {},
   "outputs": [
    {
     "name": "stdout",
     "output_type": "stream",
     "text": [
      "<class 'pandas.core.frame.DataFrame'>\n",
      "RangeIndex: 309 entries, 0 to 308\n",
      "Data columns (total 16 columns):\n",
      " #   Column                 Non-Null Count  Dtype \n",
      "---  ------                 --------------  ----- \n",
      " 0   GENDER                 309 non-null    object\n",
      " 1   AGE                    309 non-null    int64 \n",
      " 2   SMOKING                309 non-null    int64 \n",
      " 3   YELLOW_FINGERS         309 non-null    int64 \n",
      " 4   ANXIETY                309 non-null    int64 \n",
      " 5   PEER_PRESSURE          309 non-null    int64 \n",
      " 6   CHRONIC DISEASE        309 non-null    int64 \n",
      " 7   FATIGUE                309 non-null    int64 \n",
      " 8   ALLERGY                309 non-null    int64 \n",
      " 9   WHEEZING               309 non-null    int64 \n",
      " 10  ALCOHOL CONSUMING      309 non-null    int64 \n",
      " 11  COUGHING               309 non-null    int64 \n",
      " 12  SHORTNESS OF BREATH    309 non-null    int64 \n",
      " 13  SWALLOWING DIFFICULTY  309 non-null    int64 \n",
      " 14  CHEST PAIN             309 non-null    int64 \n",
      " 15  LUNG_CANCER            309 non-null    object\n",
      "dtypes: int64(14), object(2)\n",
      "memory usage: 38.8+ KB\n"
     ]
    }
   ],
   "source": [
    "df.info()"
   ]
  },
  {
   "cell_type": "code",
   "execution_count": 153,
   "id": "43bb72de-e14e-4775-9bd9-5a8ed822ce64",
   "metadata": {},
   "outputs": [],
   "source": [
    "unique_gender = df['GENDER'].value_counts()"
   ]
  },
  {
   "cell_type": "code",
   "execution_count": 28,
   "id": "b5b8e380-6dab-4aea-acde-f5ad5c3f6007",
   "metadata": {},
   "outputs": [
    {
     "data": {
      "image/png": "[encoded data removed]",
      "text/plain": [
       "<Figure size 640x480 with 1 Axes>"
      ]
     },
     "metadata": {},
     "output_type": "display_data"
    }
   ],
   "source": [
    "sns.barplot(x=unique_gender.index, y = unique_gender.values, hue=unique_gender.index,palette=\"viridis\", alpha=0.6)\n",
    "plt.show()"
   ]
  },
  {
   "cell_type": "markdown",
   "id": "53dffc26-d250-44d4-819f-a0e38fd7a751",
   "metadata": {},
   "source": [
    "### THE ABOVE BAR PLOT SHOWS THAT MALES ARE MORE EFFECTED BY LUNG CANCER THAN FEMALES"
   ]
  },
  {
   "cell_type": "code",
   "execution_count": 52,
   "id": "a895a5ce-d2f6-4ac8-88e5-edd126fdf27d",
   "metadata": {},
   "outputs": [
    {
     "data": {
      "image/png": "[encoded data removed]",
      "text/plain": [
       "<Figure size 640x480 with 1 Axes>"
      ]
     },
     "metadata": {},
     "output_type": "display_data"
    }
   ],
   "source": [
    "sns.histplot(df['AGE'], bins=30, kde=True, color=\"skyblue\")\n",
    "plt.xticks(ticks=range(1, 100 + 1, 5))\n",
    "plt.show()"
   ]
  },
  {
   "cell_type": "markdown",
   "id": "68e41e71-1cb3-4898-99f1-e671d0c662d9",
   "metadata": {},
   "source": [
    "### THE HISTOGRAM SHOWS THAT AGES BETWEEN 46 AND 80 ARE MOSTLY EFFECTED BY LUNG CANCER AND "
   ]
  },
  {
   "cell_type": "code",
   "execution_count": 60,
   "id": "fd079dbb-c7be-4a5c-b8c5-5fbd9fd5e74c",
   "metadata": {},
   "outputs": [],
   "source": [
    "unique_val = df['SMOKING'].value_counts()\n",
    "unique_val_labels = [\"Smokers\" , \"Non Smokers\"]"
   ]
  },
  {
   "cell_type": "code",
   "execution_count": 68,
   "id": "6b0bb845-0585-412b-a9fe-7a977919fc30",
   "metadata": {},
   "outputs": [
    {
     "data": {
      "image/png": "[encoded data removed]",
      "text/plain": [
       "<Figure size 640x480 with 1 Axes>"
      ]
     },
     "metadata": {},
     "output_type": "display_data"
    }
   ],
   "source": [
    "sns.barplot(x=unique_val_labels, y = unique_val.values, hue=unique_val_labels,palette=\"flare\")\n",
    "plt.show()"
   ]
  },
  {
   "cell_type": "code",
   "execution_count": 112,
   "id": "faa03e7d-21c8-4552-b81e-cb87f0142eda",
   "metadata": {},
   "outputs": [],
   "source": [
    "no_of_yellow_finger_patients = df['YELLOW_FINGERS'].value_counts()[2]\n",
    "total_patients = df.shape[0]\n",
    "\n",
    "list_for_pie_chart=[no_of_yellow_finger_patients, total_patients - no_of_yellow_finger_patients]\n",
    "labels_for_pie_chart=[\"Patients with yellow fingers\", \"Patients without yellow fingers\"]"
   ]
  },
  {
   "cell_type": "code",
   "execution_count": 110,
   "id": "8304561f-d4c7-4ded-be69-b9eca1ddda26",
   "metadata": {},
   "outputs": [
    {
     "data": {
      "text/plain": [
       "56.96"
      ]
     },
     "execution_count": 110,
     "metadata": {},
     "output_type": "execute_result"
    }
   ],
   "source": [
    "pct = no_of_yellow_finger_patients / total_patients * 100\n",
    "pct.round(2)"
   ]
  },
  {
   "cell_type": "code",
   "execution_count": 137,
   "id": "116afc4d-0b12-4372-807c-9fef35f3f2ee",
   "metadata": {},
   "outputs": [
    {
     "data": {
      "image/png": "[encoded data removed]",
      "text/plain": [
       "<Figure size 1200x600 with 1 Axes>"
      ]
     },
     "metadata": {},
     "output_type": "display_data"
    }
   ],
   "source": [
    "plt.figure(figsize=(12,6))\n",
    "plt.pie(x = list_for_pie_chart,colors = ['#FF0000','#0000FF'],autopct='%1.1f%%', textprops={'color': 'white', 'weight': 'bold'})\n",
    "plt.legend(labels = labels_for_pie_chart, loc=\"lower right\")\n",
    "plt.axis('equal') \n",
    "plt.title(\"Percentage of Lung Cancer Among Patients with Yellow Fingers\")\n",
    "plt.show()"
   ]
  },
  {
   "cell_type": "markdown",
   "id": "9e9ccd25-c297-4708-aa30-bb4d5dc0da8e",
   "metadata": {},
   "source": [
    "### THE ABOVE PIE CHART SHOWS THAT MOST OF THE PATIENTS HAVE YELLOW FINGERS"
   ]
  },
  {
   "cell_type": "code",
   "execution_count": 157,
   "id": "1c500b6c-d939-4f67-bc55-9442c95c6f8c",
   "metadata": {},
   "outputs": [
    {
     "data": {
      "text/plain": [
       "0      1\n",
       "2      1\n",
       "3      1\n",
       "4      1\n",
       "6      1\n",
       "      ..\n",
       "302    1\n",
       "305    1\n",
       "306    1\n",
       "307    1\n",
       "308    1\n",
       "Name: CHRONIC DISEASE, Length: 153, dtype: int64"
      ]
     },
     "execution_count": 157,
     "metadata": {},
     "output_type": "execute_result"
    }
   ],
   "source": [
    "df['CHRONIC DISEASE'][df['CHRONIC DISEASE'] == 1] "
   ]
  },
  {
   "cell_type": "code",
   "execution_count": 158,
   "id": "165f537f-293b-424e-a28a-5739b58fc4ff",
   "metadata": {},
   "outputs": [
    {
     "data": {
      "text/plain": [
       "1      2\n",
       "5      2\n",
       "9      2\n",
       "10     2\n",
       "11     2\n",
       "      ..\n",
       "295    2\n",
       "297    2\n",
       "300    2\n",
       "303    2\n",
       "304    2\n",
       "Name: CHRONIC DISEASE, Length: 156, dtype: int64"
      ]
     },
     "execution_count": 158,
     "metadata": {},
     "output_type": "execute_result"
    }
   ],
   "source": [
    "df['CHRONIC DISEASE'][df['CHRONIC DISEASE'] == 2] "
   ]
  },
  {
   "cell_type": "code",
   "execution_count": 159,
   "id": "0e918d13-8e47-4349-b0ce-676c518fba12",
   "metadata": {},
   "outputs": [
    {
     "data": {
      "image/png": "[encoded data removed]",
      "text/plain": [
       "<Figure size 500x300 with 1 Axes>"
      ]
     },
     "metadata": {},
     "output_type": "display_data"
    }
   ],
   "source": []
  },
  {
   "cell_type": "code",
   "execution_count": null,
   "id": "bb926f1c-e636-4814-9090-ff114cda0fa6",
   "metadata": {},
   "outputs": [],
   "source": []
  }
 ],
 "metadata": {
  "kernelspec": {
   "display_name": "Python 3 (ipykernel)",
   "language": "python",
   "name": "python3"
  },
  "language_info": {
   "codemirror_mode": {
    "name": "ipython",
    "version": 3
   },
   "file_extension": ".py",
   "mimetype": "text/x-python",
   "name": "python",
   "nbconvert_exporter": "python",
   "pygments_lexer": "ipython3",
   "version": "3.12.4"
  }
 },
 "nbformat": 4,
 "nbformat_minor": 5
}
