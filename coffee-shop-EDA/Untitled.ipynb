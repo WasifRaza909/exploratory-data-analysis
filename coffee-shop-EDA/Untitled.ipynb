{
 "cells": [
  {
   "cell_type": "code",
   "execution_count": 1,
   "id": "c6de10af-ea8f-4b5e-b4ad-47561fad0e58",
   "metadata": {},
   "outputs": [
    {
     "name": "stdout",
     "output_type": "stream",
     "text": [
      "<class 'pandas.core.frame.DataFrame'>\n",
      "RangeIndex: 2175 entries, 0 to 2174\n",
      "Data columns (total 7 columns):\n",
      " #   Column       Non-Null Count  Dtype         \n",
      "---  ------       --------------  -----         \n",
      " 0   date         2175 non-null   datetime64[ns]\n",
      " 1   datetime     2175 non-null   object        \n",
      " 2   cash_type    2175 non-null   object        \n",
      " 3   card         2086 non-null   object        \n",
      " 4   money        2175 non-null   float64       \n",
      " 5   coffee_name  2175 non-null   object        \n",
      " 6   day          2175 non-null   object        \n",
      "dtypes: datetime64[ns](1), float64(1), object(5)\n",
      "memory usage: 119.1+ KB\n"
     ]
    }
   ],
   "source": [
    "import csv\n",
    "import pandas as pd\n",
    "import warnings\n",
    "warnings.filterwarnings(\"ignore\")\n",
    "\n",
    "df = pd.read_csv('coffee_shop_sales.csv')\n",
    "df['date'] = pd.to_datetime(df['date'], format=\"%d/%m/%Y\")\n",
    "df['day'] = df['date'].dt.day_name()\n",
    "\n",
    "df.info()"
   ]
  },
  {
   "cell_type": "code",
   "execution_count": 2,
   "id": "972f6e6b-a30f-4d93-99ee-2229263a12ce",
   "metadata": {},
   "outputs": [],
   "source": [
    "df['card'].fillna('Not Provided',inplace=True)"
   ]
  },
  {
   "cell_type": "code",
   "execution_count": 3,
   "id": "40e8c5f2-ad49-4ebc-a5f1-76e5df7e245d",
   "metadata": {},
   "outputs": [],
   "source": [
    "\n",
    "df['month'] = df['date'].dt.month_name()\n"
   ]
  },
  {
   "cell_type": "code",
   "execution_count": 4,
   "id": "832ad8ff-c0fe-4951-b95a-c21211d10559",
   "metadata": {},
   "outputs": [],
   "source": [
    "df.to_csv('updated_coffee_shop_sales.csv', index=False)\n"
   ]
  },
  {
   "cell_type": "code",
   "execution_count": null,
   "id": "d2ec09a6-9890-4011-b180-0afebdd270ef",
   "metadata": {},
   "outputs": [],
   "source": []
  }
 ],
 "metadata": {
  "kernelspec": {
   "display_name": "Python 3 (ipykernel)",
   "language": "python",
   "name": "python3"
  },
  "language_info": {
   "codemirror_mode": {
    "name": "ipython",
    "version": 3
   },
   "file_extension": ".py",
   "mimetype": "text/x-python",
   "name": "python",
   "nbconvert_exporter": "python",
   "pygments_lexer": "ipython3",
   "version": "3.12.4"
  }
 },
 "nbformat": 4,
 "nbformat_minor": 5
}
